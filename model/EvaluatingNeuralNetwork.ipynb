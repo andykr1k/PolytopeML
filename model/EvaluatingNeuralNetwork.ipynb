{
  "cells": [
    {
      "cell_type": "code",
      "execution_count": 56,
      "metadata": {
        "id": "Utwd69e4Oq4J"
      },
      "outputs": [],
      "source": [
        "# Import libraries\n",
        "import numpy as np\n",
        "import sqlite3\n",
        "import pandas as pd\n",
        "import tensorflow as tf\n",
        "from sklearn.metrics import mean_absolute_error\n",
        "import matplotlib.pyplot as plt\n",
        "from datetime import datetime\n"
      ]
    },
    {
      "cell_type": "code",
      "execution_count": 57,
      "metadata": {
        "id": "EQwojwzjOQ2d"
      },
      "outputs": [],
      "source": [
        "#Import the data\n",
        "def Import():\n",
        "    num_vertices = 4\n",
        "    k_max = 100\n",
        "\n",
        "    database_name = '../data/{}Vertices_k{}.db'.format(num_vertices,k_max)\n",
        "    conn = sqlite3.connect(database_name)\n",
        "    return conn, k_max\n",
        "\n",
        "# the following function is necessary to be sure the coordiantes are imported as integers.\n",
        "def convert_to_int(lst):\n",
        "    return [int(x) for x in lst.strip('[]').split(',')]\n"
      ]
    },
    {
      "cell_type": "code",
      "execution_count": 58,
      "metadata": {
        "id": "5Sqj60ifbB2u"
      },
      "outputs": [],
      "source": [
        "def PrepTrainData(conn):\n",
        "    # Prepare the training data\n",
        "    train_df = pd.read_sql_query('SELECT coordinates, volume FROM Data', conn)\n",
        "    train_df['coordinates'] = train_df['coordinates'].apply(convert_to_int)\n",
        "    train_df['volume'] = pd.to_numeric(train_df['volume'], errors='coerce')\n",
        "\n",
        "    X = np.stack(train_df['coordinates'].values)\n",
        "    y = train_df['volume'].values\n",
        "\n",
        "    X_train = X\n",
        "    Y_train = y\n",
        "    print(len(X_train))\n",
        "    return X_train, Y_train"
      ]
    },
    {
      "cell_type": "code",
      "execution_count": 59,
      "metadata": {
        "id": "iDCuF9kPI6Wv"
      },
      "outputs": [],
      "source": [
        "def CreateAndTrainModel(number_of_nodes, epochs, X_train, Y_train):\n",
        "    # Define the model architecture\n",
        "    Number_hidden_nodes = number_of_nodes\n",
        "\n",
        "    model = tf.keras.models.Sequential([\n",
        "        tf.keras.layers.Dense(Number_hidden_nodes, activation='relu', input_shape=(len(X_train[0]),)),\n",
        "        tf.keras.layers.Dense(1, activation='linear')\n",
        "    ])\n",
        "\n",
        "    # Define the optimizer\n",
        "    optimizer = tf.keras.optimizers.legacy.SGD(learning_rate=0.01)\n",
        "\n",
        "    # Compile the model with the optimizer\n",
        "    model.compile(optimizer=optimizer, loss='mae', metrics=['accuracy'])\n",
        "\n",
        "    # Train the model\n",
        "    History = model.fit(X_train, Y_train, epochs=epochs, verbose=0)\n",
        "    return History, model"
      ]
    },
    {
      "cell_type": "code",
      "execution_count": 60,
      "metadata": {
        "colab": {
          "base_uri": "https://localhost:8080/"
        },
        "id": "8f3dlFK7SFIy",
        "outputId": "832cc39f-564d-413a-d698-ce4a5a7153b4"
      },
      "outputs": [],
      "source": [
        "def CreateMAEs(conn, k_max, model):\n",
        "  mae_list = []\n",
        "\n",
        "  for i in range(0,k_max+1):\n",
        "    test_df = pd.read_sql_query('SELECT coordinatesB_{0}, volume FROM Data'.format(i), conn)\n",
        "    test_df['new_coordinates'] = test_df['coordinatesB_{0}'.format(i)].apply(convert_to_int)\n",
        "    test_df['volume'] = pd.to_numeric(test_df['volume'], errors='coerce')\n",
        "\n",
        "    # We compute the MAE with respect the new database.\n",
        "\n",
        "    # Preparing the data\n",
        "    X_test = np.stack(test_df['new_coordinates'].values)\n",
        "    Y_test = test_df['volume'].values\n",
        "\n",
        "    # Make predictions on the new input data\n",
        "    new_y_pred = model.predict(X_test)\n",
        "    mae = mean_absolute_error(Y_test, new_y_pred)\n",
        "    mae_list.append(mae)\n",
        "  \n",
        "  return mae_list"
      ]
    },
    {
      "cell_type": "code",
      "execution_count": 61,
      "metadata": {
        "colab": {
          "base_uri": "https://localhost:8080/",
          "height": 281
        },
        "id": "bqiVGrYpSNRd",
        "outputId": "3b50835c-962e-4d7d-e4c4-68b13bb1bdd4"
      },
      "outputs": [],
      "source": [
        "def Stats():\n",
        "    # Define the input data as a list\n",
        "    data = [i for i in range(0,k_max+1)]\n",
        "\n",
        "    # Convert the input data to a numpy array\n",
        "    x = np.array(data)\n",
        "\n",
        "    # Define the output data as a list\n",
        "    output = mae_list\n",
        "\n",
        "    # Convert the output data to a numpy array\n",
        "    y = np.array(output)\n",
        "\n",
        "    # Perform linear regression on the data\n",
        "    slope, intercept = np.polyfit(x, y, 1)\n",
        "    return slope, intercept"
      ]
    },
    {
      "cell_type": "code",
      "execution_count": 62,
      "metadata": {},
      "outputs": [],
      "source": [
        "def Evaluate():\n",
        "    \n",
        "    f = open(\"EvaluationResults.csv\", \"a\")\n",
        "    f.write(\"nodes,epochs,slope,intercept,avg_mae,low_mae,high_mae,time\")\n",
        "    f.close()\n",
        "\n",
        "    nodes = [1, 10, 25, 50, 100, 250, 500, 750, 1000]\n",
        "    epochs = [1, 10, 25, 50, 100, 250, 500, 750, 1000]\n",
        "\n",
        "    for n in nodes:\n",
        "        for e in epochs:\n",
        "            start = datetime.now()\n",
        "            f = open(\"../results/EvaluationResults.csv\", \"a\")\n",
        "            conn, k_max = Import()\n",
        "            X_train, Y_train = PrepTrainData(conn)\n",
        "            History, model = CreateAndTrainModel(n, e, X_train, Y_train)\n",
        "            mae_list = CreateMAEs(conn, k_max, model)\n",
        "            slope, intercept = Stats()\n",
        "            end = datetime.now()\n",
        "            time = end - start\n",
        "            line = n + \",\" + e + \",\" + slope + \",\" + intercept + \",\" + avg(mae_list) + \",\" + min(mae_list) + \",\"+ max(mae_list) + \",\" + time\n",
        "            f.write(line)\n",
        "            f.close()"
      ]
    },
    {
      "cell_type": "code",
      "execution_count": 63,
      "metadata": {},
      "outputs": [
        {
          "name": "stdout",
          "output_type": "stream",
          "text": [
            "42246\n",
            "1321/1321 [==============================] - 0s 323us/step\n",
            "1321/1321 [==============================] - 0s 251us/step\n",
            "1321/1321 [==============================] - 0s 299us/step\n",
            "1321/1321 [==============================] - 0s 250us/step\n",
            "1321/1321 [==============================] - 0s 220us/step\n",
            "1321/1321 [==============================] - 0s 228us/step\n",
            "1321/1321 [==============================] - 0s 309us/step\n",
            "1321/1321 [==============================] - 0s 217us/step\n",
            "1321/1321 [==============================] - 0s 232us/step\n",
            "1321/1321 [==============================] - 0s 220us/step\n",
            "1321/1321 [==============================] - 0s 248us/step\n",
            "1321/1321 [==============================] - 0s 226us/step\n",
            "1321/1321 [==============================] - 0s 243us/step\n",
            "1321/1321 [==============================] - 0s 325us/step\n",
            "1321/1321 [==============================] - 0s 268us/step\n",
            "1321/1321 [==============================] - 0s 246us/step\n",
            "1321/1321 [==============================] - 0s 249us/step\n",
            "   1/1321 [..............................] - ETA: 12s"
          ]
        },
        {
          "ename": "KeyboardInterrupt",
          "evalue": "",
          "output_type": "error",
          "traceback": [
            "\u001b[0;31m---------------------------------------------------------------------------\u001b[0m",
            "\u001b[0;31mKeyboardInterrupt\u001b[0m                         Traceback (most recent call last)",
            "Cell \u001b[0;32mIn[63], line 1\u001b[0m\n\u001b[0;32m----> 1\u001b[0m Evaluate()\n",
            "Cell \u001b[0;32mIn[62], line 17\u001b[0m, in \u001b[0;36mEvaluate\u001b[0;34m()\u001b[0m\n\u001b[1;32m     15\u001b[0m X_train, Y_train \u001b[39m=\u001b[39m PrepTrainData(conn)\n\u001b[1;32m     16\u001b[0m History, model \u001b[39m=\u001b[39m CreateAndTrainModel(n, e, X_train, Y_train)\n\u001b[0;32m---> 17\u001b[0m mae_list \u001b[39m=\u001b[39m CreateMAEs(conn, k_max, model)\n\u001b[1;32m     18\u001b[0m slope, intercept \u001b[39m=\u001b[39m Stats()\n\u001b[1;32m     19\u001b[0m end \u001b[39m=\u001b[39m datetime\u001b[39m.\u001b[39mnow()\n",
            "Cell \u001b[0;32mIn[60], line 16\u001b[0m, in \u001b[0;36mCreateMAEs\u001b[0;34m(conn, k_max, model)\u001b[0m\n\u001b[1;32m     13\u001b[0m Y_test \u001b[39m=\u001b[39m test_df[\u001b[39m'\u001b[39m\u001b[39mvolume\u001b[39m\u001b[39m'\u001b[39m]\u001b[39m.\u001b[39mvalues\n\u001b[1;32m     15\u001b[0m \u001b[39m# Make predictions on the new input data\u001b[39;00m\n\u001b[0;32m---> 16\u001b[0m new_y_pred \u001b[39m=\u001b[39m model\u001b[39m.\u001b[39;49mpredict(X_test)\n\u001b[1;32m     17\u001b[0m mae \u001b[39m=\u001b[39m mean_absolute_error(Y_test, new_y_pred)\n\u001b[1;32m     18\u001b[0m mae_list\u001b[39m.\u001b[39mappend(mae)\n",
            "File \u001b[0;32m~/Desktop/Projects/PolytopeML/env/lib/python3.10/site-packages/keras/src/utils/traceback_utils.py:65\u001b[0m, in \u001b[0;36mfilter_traceback.<locals>.error_handler\u001b[0;34m(*args, **kwargs)\u001b[0m\n\u001b[1;32m     63\u001b[0m filtered_tb \u001b[39m=\u001b[39m \u001b[39mNone\u001b[39;00m\n\u001b[1;32m     64\u001b[0m \u001b[39mtry\u001b[39;00m:\n\u001b[0;32m---> 65\u001b[0m     \u001b[39mreturn\u001b[39;00m fn(\u001b[39m*\u001b[39;49margs, \u001b[39m*\u001b[39;49m\u001b[39m*\u001b[39;49mkwargs)\n\u001b[1;32m     66\u001b[0m \u001b[39mexcept\u001b[39;00m \u001b[39mException\u001b[39;00m \u001b[39mas\u001b[39;00m e:\n\u001b[1;32m     67\u001b[0m     filtered_tb \u001b[39m=\u001b[39m _process_traceback_frames(e\u001b[39m.\u001b[39m__traceback__)\n",
            "File \u001b[0;32m~/Desktop/Projects/PolytopeML/env/lib/python3.10/site-packages/keras/src/engine/training.py:2554\u001b[0m, in \u001b[0;36mModel.predict\u001b[0;34m(self, x, batch_size, verbose, steps, callbacks, max_queue_size, workers, use_multiprocessing)\u001b[0m\n\u001b[1;32m   2552\u001b[0m \u001b[39mfor\u001b[39;00m step \u001b[39min\u001b[39;00m data_handler\u001b[39m.\u001b[39msteps():\n\u001b[1;32m   2553\u001b[0m     callbacks\u001b[39m.\u001b[39mon_predict_batch_begin(step)\n\u001b[0;32m-> 2554\u001b[0m     tmp_batch_outputs \u001b[39m=\u001b[39m \u001b[39mself\u001b[39;49m\u001b[39m.\u001b[39;49mpredict_function(iterator)\n\u001b[1;32m   2555\u001b[0m     \u001b[39mif\u001b[39;00m data_handler\u001b[39m.\u001b[39mshould_sync:\n\u001b[1;32m   2556\u001b[0m         context\u001b[39m.\u001b[39masync_wait()\n",
            "File \u001b[0;32m~/Desktop/Projects/PolytopeML/env/lib/python3.10/site-packages/tensorflow/python/util/traceback_utils.py:150\u001b[0m, in \u001b[0;36mfilter_traceback.<locals>.error_handler\u001b[0;34m(*args, **kwargs)\u001b[0m\n\u001b[1;32m    148\u001b[0m filtered_tb \u001b[39m=\u001b[39m \u001b[39mNone\u001b[39;00m\n\u001b[1;32m    149\u001b[0m \u001b[39mtry\u001b[39;00m:\n\u001b[0;32m--> 150\u001b[0m   \u001b[39mreturn\u001b[39;00m fn(\u001b[39m*\u001b[39;49margs, \u001b[39m*\u001b[39;49m\u001b[39m*\u001b[39;49mkwargs)\n\u001b[1;32m    151\u001b[0m \u001b[39mexcept\u001b[39;00m \u001b[39mException\u001b[39;00m \u001b[39mas\u001b[39;00m e:\n\u001b[1;32m    152\u001b[0m   filtered_tb \u001b[39m=\u001b[39m _process_traceback_frames(e\u001b[39m.\u001b[39m__traceback__)\n",
            "File \u001b[0;32m~/Desktop/Projects/PolytopeML/env/lib/python3.10/site-packages/tensorflow/python/eager/polymorphic_function/polymorphic_function.py:825\u001b[0m, in \u001b[0;36mFunction.__call__\u001b[0;34m(self, *args, **kwds)\u001b[0m\n\u001b[1;32m    822\u001b[0m compiler \u001b[39m=\u001b[39m \u001b[39m\"\u001b[39m\u001b[39mxla\u001b[39m\u001b[39m\"\u001b[39m \u001b[39mif\u001b[39;00m \u001b[39mself\u001b[39m\u001b[39m.\u001b[39m_jit_compile \u001b[39melse\u001b[39;00m \u001b[39m\"\u001b[39m\u001b[39mnonXla\u001b[39m\u001b[39m\"\u001b[39m\n\u001b[1;32m    824\u001b[0m \u001b[39mwith\u001b[39;00m OptionalXlaContext(\u001b[39mself\u001b[39m\u001b[39m.\u001b[39m_jit_compile):\n\u001b[0;32m--> 825\u001b[0m   result \u001b[39m=\u001b[39m \u001b[39mself\u001b[39;49m\u001b[39m.\u001b[39;49m_call(\u001b[39m*\u001b[39;49margs, \u001b[39m*\u001b[39;49m\u001b[39m*\u001b[39;49mkwds)\n\u001b[1;32m    827\u001b[0m new_tracing_count \u001b[39m=\u001b[39m \u001b[39mself\u001b[39m\u001b[39m.\u001b[39mexperimental_get_tracing_count()\n\u001b[1;32m    828\u001b[0m without_tracing \u001b[39m=\u001b[39m (tracing_count \u001b[39m==\u001b[39m new_tracing_count)\n",
            "File \u001b[0;32m~/Desktop/Projects/PolytopeML/env/lib/python3.10/site-packages/tensorflow/python/eager/polymorphic_function/polymorphic_function.py:864\u001b[0m, in \u001b[0;36mFunction._call\u001b[0;34m(self, *args, **kwds)\u001b[0m\n\u001b[1;32m    861\u001b[0m \u001b[39mself\u001b[39m\u001b[39m.\u001b[39m_lock\u001b[39m.\u001b[39mrelease()\n\u001b[1;32m    862\u001b[0m \u001b[39m# In this case we have not created variables on the first call. So we can\u001b[39;00m\n\u001b[1;32m    863\u001b[0m \u001b[39m# run the first trace but we should fail if variables are created.\u001b[39;00m\n\u001b[0;32m--> 864\u001b[0m results \u001b[39m=\u001b[39m \u001b[39mself\u001b[39;49m\u001b[39m.\u001b[39;49m_variable_creation_fn(\u001b[39m*\u001b[39;49margs, \u001b[39m*\u001b[39;49m\u001b[39m*\u001b[39;49mkwds)\n\u001b[1;32m    865\u001b[0m \u001b[39mif\u001b[39;00m \u001b[39mself\u001b[39m\u001b[39m.\u001b[39m_created_variables \u001b[39mand\u001b[39;00m \u001b[39mnot\u001b[39;00m ALLOW_DYNAMIC_VARIABLE_CREATION:\n\u001b[1;32m    866\u001b[0m   \u001b[39mraise\u001b[39;00m \u001b[39mValueError\u001b[39;00m(\u001b[39m\"\u001b[39m\u001b[39mCreating variables on a non-first call to a function\u001b[39m\u001b[39m\"\u001b[39m\n\u001b[1;32m    867\u001b[0m                    \u001b[39m\"\u001b[39m\u001b[39m decorated with tf.function.\u001b[39m\u001b[39m\"\u001b[39m)\n",
            "File \u001b[0;32m~/Desktop/Projects/PolytopeML/env/lib/python3.10/site-packages/tensorflow/python/eager/polymorphic_function/tracing_compiler.py:148\u001b[0m, in \u001b[0;36mTracingCompiler.__call__\u001b[0;34m(self, *args, **kwargs)\u001b[0m\n\u001b[1;32m    145\u001b[0m \u001b[39mwith\u001b[39;00m \u001b[39mself\u001b[39m\u001b[39m.\u001b[39m_lock:\n\u001b[1;32m    146\u001b[0m   (concrete_function,\n\u001b[1;32m    147\u001b[0m    filtered_flat_args) \u001b[39m=\u001b[39m \u001b[39mself\u001b[39m\u001b[39m.\u001b[39m_maybe_define_function(args, kwargs)\n\u001b[0;32m--> 148\u001b[0m \u001b[39mreturn\u001b[39;00m concrete_function\u001b[39m.\u001b[39;49m_call_flat(\n\u001b[1;32m    149\u001b[0m     filtered_flat_args, captured_inputs\u001b[39m=\u001b[39;49mconcrete_function\u001b[39m.\u001b[39;49mcaptured_inputs)\n",
            "File \u001b[0;32m~/Desktop/Projects/PolytopeML/env/lib/python3.10/site-packages/tensorflow/python/eager/polymorphic_function/monomorphic_function.py:1349\u001b[0m, in \u001b[0;36mConcreteFunction._call_flat\u001b[0;34m(self, args, captured_inputs)\u001b[0m\n\u001b[1;32m   1345\u001b[0m possible_gradient_type \u001b[39m=\u001b[39m gradients_util\u001b[39m.\u001b[39mPossibleTapeGradientTypes(args)\n\u001b[1;32m   1346\u001b[0m \u001b[39mif\u001b[39;00m (possible_gradient_type \u001b[39m==\u001b[39m gradients_util\u001b[39m.\u001b[39mPOSSIBLE_GRADIENT_TYPES_NONE\n\u001b[1;32m   1347\u001b[0m     \u001b[39mand\u001b[39;00m executing_eagerly):\n\u001b[1;32m   1348\u001b[0m   \u001b[39m# No tape is watching; skip to running the function.\u001b[39;00m\n\u001b[0;32m-> 1349\u001b[0m   \u001b[39mreturn\u001b[39;00m \u001b[39mself\u001b[39m\u001b[39m.\u001b[39m_build_call_outputs(\u001b[39mself\u001b[39;49m\u001b[39m.\u001b[39;49m_inference_function(\u001b[39m*\u001b[39;49margs))\n\u001b[1;32m   1350\u001b[0m forward_backward \u001b[39m=\u001b[39m \u001b[39mself\u001b[39m\u001b[39m.\u001b[39m_select_forward_and_backward_functions(\n\u001b[1;32m   1351\u001b[0m     args,\n\u001b[1;32m   1352\u001b[0m     possible_gradient_type,\n\u001b[1;32m   1353\u001b[0m     executing_eagerly)\n\u001b[1;32m   1354\u001b[0m forward_function, args_with_tangents \u001b[39m=\u001b[39m forward_backward\u001b[39m.\u001b[39mforward()\n",
            "File \u001b[0;32m~/Desktop/Projects/PolytopeML/env/lib/python3.10/site-packages/tensorflow/python/eager/polymorphic_function/atomic_function.py:196\u001b[0m, in \u001b[0;36mAtomicFunction.__call__\u001b[0;34m(self, *args)\u001b[0m\n\u001b[1;32m    194\u001b[0m \u001b[39mwith\u001b[39;00m record\u001b[39m.\u001b[39mstop_recording():\n\u001b[1;32m    195\u001b[0m   \u001b[39mif\u001b[39;00m \u001b[39mself\u001b[39m\u001b[39m.\u001b[39m_bound_context\u001b[39m.\u001b[39mexecuting_eagerly():\n\u001b[0;32m--> 196\u001b[0m     outputs \u001b[39m=\u001b[39m \u001b[39mself\u001b[39;49m\u001b[39m.\u001b[39;49m_bound_context\u001b[39m.\u001b[39;49mcall_function(\n\u001b[1;32m    197\u001b[0m         \u001b[39mself\u001b[39;49m\u001b[39m.\u001b[39;49mname,\n\u001b[1;32m    198\u001b[0m         \u001b[39mlist\u001b[39;49m(args),\n\u001b[1;32m    199\u001b[0m         \u001b[39mlen\u001b[39;49m(\u001b[39mself\u001b[39;49m\u001b[39m.\u001b[39;49mfunction_type\u001b[39m.\u001b[39;49mflat_outputs),\n\u001b[1;32m    200\u001b[0m     )\n\u001b[1;32m    201\u001b[0m   \u001b[39melse\u001b[39;00m:\n\u001b[1;32m    202\u001b[0m     outputs \u001b[39m=\u001b[39m make_call_op_in_graph(\u001b[39mself\u001b[39m, \u001b[39mlist\u001b[39m(args))\n",
            "File \u001b[0;32m~/Desktop/Projects/PolytopeML/env/lib/python3.10/site-packages/tensorflow/python/eager/context.py:1457\u001b[0m, in \u001b[0;36mContext.call_function\u001b[0;34m(self, name, tensor_inputs, num_outputs)\u001b[0m\n\u001b[1;32m   1455\u001b[0m cancellation_context \u001b[39m=\u001b[39m cancellation\u001b[39m.\u001b[39mcontext()\n\u001b[1;32m   1456\u001b[0m \u001b[39mif\u001b[39;00m cancellation_context \u001b[39mis\u001b[39;00m \u001b[39mNone\u001b[39;00m:\n\u001b[0;32m-> 1457\u001b[0m   outputs \u001b[39m=\u001b[39m execute\u001b[39m.\u001b[39;49mexecute(\n\u001b[1;32m   1458\u001b[0m       name\u001b[39m.\u001b[39;49mdecode(\u001b[39m\"\u001b[39;49m\u001b[39mutf-8\u001b[39;49m\u001b[39m\"\u001b[39;49m),\n\u001b[1;32m   1459\u001b[0m       num_outputs\u001b[39m=\u001b[39;49mnum_outputs,\n\u001b[1;32m   1460\u001b[0m       inputs\u001b[39m=\u001b[39;49mtensor_inputs,\n\u001b[1;32m   1461\u001b[0m       attrs\u001b[39m=\u001b[39;49mattrs,\n\u001b[1;32m   1462\u001b[0m       ctx\u001b[39m=\u001b[39;49m\u001b[39mself\u001b[39;49m,\n\u001b[1;32m   1463\u001b[0m   )\n\u001b[1;32m   1464\u001b[0m \u001b[39melse\u001b[39;00m:\n\u001b[1;32m   1465\u001b[0m   outputs \u001b[39m=\u001b[39m execute\u001b[39m.\u001b[39mexecute_with_cancellation(\n\u001b[1;32m   1466\u001b[0m       name\u001b[39m.\u001b[39mdecode(\u001b[39m\"\u001b[39m\u001b[39mutf-8\u001b[39m\u001b[39m\"\u001b[39m),\n\u001b[1;32m   1467\u001b[0m       num_outputs\u001b[39m=\u001b[39mnum_outputs,\n\u001b[0;32m   (...)\u001b[0m\n\u001b[1;32m   1471\u001b[0m       cancellation_manager\u001b[39m=\u001b[39mcancellation_context,\n\u001b[1;32m   1472\u001b[0m   )\n",
            "File \u001b[0;32m~/Desktop/Projects/PolytopeML/env/lib/python3.10/site-packages/tensorflow/python/eager/execute.py:53\u001b[0m, in \u001b[0;36mquick_execute\u001b[0;34m(op_name, num_outputs, inputs, attrs, ctx, name)\u001b[0m\n\u001b[1;32m     51\u001b[0m \u001b[39mtry\u001b[39;00m:\n\u001b[1;32m     52\u001b[0m   ctx\u001b[39m.\u001b[39mensure_initialized()\n\u001b[0;32m---> 53\u001b[0m   tensors \u001b[39m=\u001b[39m pywrap_tfe\u001b[39m.\u001b[39;49mTFE_Py_Execute(ctx\u001b[39m.\u001b[39;49m_handle, device_name, op_name,\n\u001b[1;32m     54\u001b[0m                                       inputs, attrs, num_outputs)\n\u001b[1;32m     55\u001b[0m \u001b[39mexcept\u001b[39;00m core\u001b[39m.\u001b[39m_NotOkStatusException \u001b[39mas\u001b[39;00m e:\n\u001b[1;32m     56\u001b[0m   \u001b[39mif\u001b[39;00m name \u001b[39mis\u001b[39;00m \u001b[39mnot\u001b[39;00m \u001b[39mNone\u001b[39;00m:\n",
            "\u001b[0;31mKeyboardInterrupt\u001b[0m: "
          ]
        }
      ],
      "source": [
        "Evaluate()"
      ]
    }
  ],
  "metadata": {
    "colab": {
      "provenance": []
    },
    "kernelspec": {
      "display_name": "Python 3",
      "name": "python3"
    },
    "language_info": {
      "codemirror_mode": {
        "name": "ipython",
        "version": 3
      },
      "file_extension": ".py",
      "mimetype": "text/x-python",
      "name": "python",
      "nbconvert_exporter": "python",
      "pygments_lexer": "ipython3",
      "version": "3.10.4"
    }
  },
  "nbformat": 4,
  "nbformat_minor": 0
}
