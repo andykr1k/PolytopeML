{
  "cells": [
    {
      "cell_type": "code",
      "execution_count": 1,
      "metadata": {
        "id": "Utwd69e4Oq4J"
      },
      "outputs": [],
      "source": [
        "# Import libraries\n",
        "import numpy as np\n",
        "import sqlite3\n",
        "import pandas as pd\n",
        "import tensorflow as tf\n",
        "from sklearn.metrics import mean_absolute_error\n"
      ]
    },
    {
      "cell_type": "code",
      "execution_count": null,
      "metadata": {
        "id": "EQwojwzjOQ2d"
      },
      "outputs": [],
      "source": [
        "#Import the data\n",
        "\n",
        "num_vertices = 4\n",
        "k_max = 100\n",
        "\n",
        "database_name = '/content/{}Vertices_k{}.db'.format(num_vertices,k_max)\n",
        "conn = sqlite3.connect(database_name)\n",
        "\n",
        "# the following function is necessary to be sure the coordiantes are imported as integers.\n",
        "def convert_to_int(lst):\n",
        "    return [int(x) for x in lst.strip('[]').split(',')]\n"
      ]
    },
    {
      "cell_type": "code",
      "execution_count": null,
      "metadata": {
        "id": "5Sqj60ifbB2u"
      },
      "outputs": [],
      "source": [
        "# Prepare the training data\n",
        "train_df = pd.read_sql_query('SELECT coordinates, volume FROM Data', conn)\n",
        "train_df['coordinates'] = train_df['coordinates'].apply(convert_to_int)\n",
        "train_df['volume'] = pd.to_numeric(train_df['volume'], errors='coerce')"
      ]
    },
    {
      "cell_type": "code",
      "execution_count": null,
      "metadata": {
        "colab": {
          "base_uri": "https://localhost:8080/"
        },
        "id": "nOawdgZAOMky",
        "outputId": "b6371ca2-6a51-475c-dae6-44a73c3381e2"
      },
      "outputs": [
        {
          "name": "stdout",
          "output_type": "stream",
          "text": [
            "42246\n"
          ]
        }
      ],
      "source": [
        "#preparing the data\n",
        "X = np.stack(train_df['coordinates'].values)\n",
        "y = train_df['volume'].values\n",
        "\n",
        "X_train = X\n",
        "y_train = y\n",
        "print(len(X_train))"
      ]
    },
    {
      "cell_type": "code",
      "execution_count": null,
      "metadata": {
        "id": "iDCuF9kPI6Wv"
      },
      "outputs": [],
      "source": [
        "# Define the model architecture\n",
        "Number_hidden_nodes = 1000\n",
        "\n",
        "model = tf.keras.models.Sequential([\n",
        "    tf.keras.layers.Dense(Number_hidden_nodes, activation='relu', input_shape=(len(X_train[0]),)),\n",
        "    tf.keras.layers.Dense(1, activation='linear')\n",
        "])\n",
        "\n",
        "# Define the optimizer\n",
        "optimizer = tf.keras.optimizers.SGD(learning_rate=0.01)\n",
        "\n",
        "# Compile the model with the optimizer\n",
        "model.compile(optimizer=optimizer, loss='mae', metrics=['accuracy'])\n",
        "\n",
        "# Train the model\n",
        "History = model.fit(X_train, y_train, epochs=1000, verbose=0)"
      ]
    },
    {
      "cell_type": "code",
      "execution_count": null,
      "metadata": {
        "colab": {
          "base_uri": "https://localhost:8080/",
          "height": 279
        },
        "id": "e-aGR8g2QA7N",
        "outputId": "692e10af-1036-4dc1-d665-880c454e728f"
      },
      "outputs": [
        {
          "data": {
            "image/png": "[encoded data removed]",
            "text/plain": [
              "<Figure size 432x288 with 1 Axes>"
            ]
          },
          "metadata": {
            "needs_background": "light"
          },
          "output_type": "display_data"
        }
      ],
      "source": [
        "import matplotlib.pyplot as plt\n",
        "plt.plot(History.history['loss'], label='Training Loss')\n",
        "plt.xlabel('Epoch')\n",
        "plt.ylabel('Loss')\n",
        "plt.legend()\n",
        "plt.show()\n"
      ]
    },
    {
      "cell_type": "code",
      "execution_count": null,
      "metadata": {
        "colab": {
          "base_uri": "https://localhost:8080/"
        },
        "id": "8f3dlFK7SFIy",
        "outputId": "832cc39f-564d-413a-d698-ce4a5a7153b4"
      },
      "outputs": [
        {
          "name": "stdout",
          "output_type": "stream",
          "text": [
            "1321/1321 [==============================] - 2s 1ms/step\n",
            "1321/1321 [==============================] - 2s 1ms/step\n",
            "1321/1321 [==============================] - 2s 1ms/step\n",
            "1321/1321 [==============================] - 2s 2ms/step\n",
            "1321/1321 [==============================] - 2s 1ms/step\n",
            "1321/1321 [==============================] - 2s 1ms/step\n",
            "1321/1321 [==============================] - 2s 1ms/step\n",
            "1321/1321 [==============================] - 2s 1ms/step\n",
            "1321/1321 [==============================] - 2s 1ms/step\n",
            "1321/1321 [==============================] - 2s 1ms/step\n",
            "1321/1321 [==============================] - 2s 1ms/step\n",
            "1321/1321 [==============================] - 2s 1ms/step\n",
            "1321/1321 [==============================] - 2s 1ms/step\n",
            "1321/1321 [==============================] - 2s 1ms/step\n",
            "1321/1321 [==============================] - 2s 1ms/step\n",
            "1321/1321 [==============================] - 2s 1ms/step\n",
            "1321/1321 [==============================] - 2s 1ms/step\n",
            "1321/1321 [==============================] - 2s 1ms/step\n",
            "1321/1321 [==============================] - 2s 1ms/step\n",
            "1321/1321 [==============================] - 2s 1ms/step\n",
            "1321/1321 [==============================] - 2s 1ms/step\n",
            "1321/1321 [==============================] - 2s 2ms/step\n",
            "1321/1321 [==============================] - 2s 2ms/step\n",
            "1321/1321 [==============================] - 2s 2ms/step\n",
            "1321/1321 [==============================] - 2s 2ms/step\n",
            "1321/1321 [==============================] - 2s 1ms/step\n",
            "1321/1321 [==============================] - 2s 2ms/step\n",
            "1321/1321 [==============================] - 2s 1ms/step\n",
            "1321/1321 [==============================] - 2s 1ms/step\n",
            "1321/1321 [==============================] - 2s 1ms/step\n",
            "1321/1321 [==============================] - 2s 2ms/step\n",
            "1321/1321 [==============================] - 2s 1ms/step\n",
            "1321/1321 [==============================] - 2s 1ms/step\n",
            "1321/1321 [==============================] - 2s 2ms/step\n",
            "1321/1321 [==============================] - 2s 1ms/step\n",
            "1321/1321 [==============================] - 2s 1ms/step\n",
            "1321/1321 [==============================] - 2s 1ms/step\n",
            "1321/1321 [==============================] - 2s 1ms/step\n",
            "1321/1321 [==============================] - 2s 1ms/step\n",
            "1321/1321 [==============================] - 2s 1ms/step\n",
            "1321/1321 [==============================] - 2s 1ms/step\n",
            "1321/1321 [==============================] - 2s 1ms/step\n",
            "1321/1321 [==============================] - 2s 1ms/step\n",
            "1321/1321 [==============================] - 2s 1ms/step\n",
            "1321/1321 [==============================] - 2s 1ms/step\n",
            "1321/1321 [==============================] - 2s 1ms/step\n",
            "1321/1321 [==============================] - 2s 1ms/step\n",
            "1321/1321 [==============================] - 2s 1ms/step\n",
            "1321/1321 [==============================] - 2s 1ms/step\n",
            "1321/1321 [==============================] - 2s 1ms/step\n",
            "1321/1321 [==============================] - 2s 1ms/step\n",
            "1321/1321 [==============================] - 2s 1ms/step\n",
            "1321/1321 [==============================] - 2s 1ms/step\n",
            "1321/1321 [==============================] - 2s 1ms/step\n",
            "1321/1321 [==============================] - 2s 1ms/step\n",
            "1321/1321 [==============================] - 2s 1ms/step\n",
            "1321/1321 [==============================] - 2s 2ms/step\n",
            "1321/1321 [==============================] - 2s 1ms/step\n",
            "1321/1321 [==============================] - 2s 1ms/step\n",
            "1321/1321 [==============================] - 2s 1ms/step\n",
            "1321/1321 [==============================] - 2s 2ms/step\n",
            "1321/1321 [==============================] - 2s 1ms/step\n",
            "1321/1321 [==============================] - 2s 2ms/step\n",
            "1321/1321 [==============================] - 2s 1ms/step\n",
            "1321/1321 [==============================] - 2s 1ms/step\n",
            "1321/1321 [==============================] - 2s 2ms/step\n",
            "1321/1321 [==============================] - 2s 1ms/step\n",
            "1321/1321 [==============================] - 2s 1ms/step\n",
            "1321/1321 [==============================] - 2s 2ms/step\n",
            "1321/1321 [==============================] - 2s 1ms/step\n",
            "1321/1321 [==============================] - 2s 2ms/step\n",
            "1321/1321 [==============================] - 2s 2ms/step\n",
            "1321/1321 [==============================] - 2s 2ms/step\n",
            "1321/1321 [==============================] - 2s 2ms/step\n",
            "1321/1321 [==============================] - 2s 2ms/step\n",
            "1321/1321 [==============================] - 2s 2ms/step\n",
            "1321/1321 [==============================] - 2s 2ms/step\n",
            "1321/1321 [==============================] - 2s 1ms/step\n",
            "1321/1321 [==============================] - 2s 1ms/step\n",
            "1321/1321 [==============================] - 2s 1ms/step\n",
            "1321/1321 [==============================] - 2s 1ms/step\n",
            "1321/1321 [==============================] - 2s 2ms/step\n",
            "1321/1321 [==============================] - 2s 1ms/step\n",
            "1321/1321 [==============================] - 2s 2ms/step\n",
            "1321/1321 [==============================] - 2s 1ms/step\n",
            "1321/1321 [==============================] - 2s 1ms/step\n",
            "1321/1321 [==============================] - 2s 1ms/step\n",
            "1321/1321 [==============================] - 2s 1ms/step\n",
            "1321/1321 [==============================] - 2s 1ms/step\n",
            "1321/1321 [==============================] - 2s 1ms/step\n",
            "1321/1321 [==============================] - 2s 2ms/step\n",
            "1321/1321 [==============================] - 2s 1ms/step\n",
            "1321/1321 [==============================] - 2s 1ms/step\n",
            "1321/1321 [==============================] - 2s 1ms/step\n",
            "1321/1321 [==============================] - 2s 1ms/step\n",
            "1321/1321 [==============================] - 2s 1ms/step\n",
            "1321/1321 [==============================] - 2s 1ms/step\n",
            "1321/1321 [==============================] - 2s 1ms/step\n",
            "1321/1321 [==============================] - 2s 1ms/step\n",
            "1321/1321 [==============================] - 2s 1ms/step\n",
            "1321/1321 [==============================] - 2s 1ms/step\n"
          ]
        }
      ],
      "source": [
        "mae_list = []\n",
        "\n",
        "for i in range(0,k_max+1):\n",
        "  test_df = pd.read_sql_query('SELECT coordinatesB_{0}, volume FROM Data'.format(i), conn)\n",
        "  test_df['new_coordinates'] = test_df['coordinatesB_{0}'.format(i)].apply(convert_to_int)\n",
        "  test_df['volume'] = pd.to_numeric(test_df['volume'], errors='coerce')\n",
        "\n",
        "  # We compute the MAE with respect the newdatabase.\n",
        "\n",
        "  #preparing the data\n",
        "  X_test = np.stack(test_df['new_coordinates'].values)\n",
        "  y_test = test_df['volume'].values\n",
        "\n",
        "  # Make predictions on the new input data\n",
        "  new_y_pred = model.predict(X_test)\n",
        "  mae = mean_absolute_error(y_test, new_y_pred)\n",
        "  mae_list.append(mae)\n",
        "\n"
      ]
    },
    {
      "cell_type": "code",
      "execution_count": null,
      "metadata": {
        "colab": {
          "base_uri": "https://localhost:8080/",
          "height": 281
        },
        "id": "bqiVGrYpSNRd",
        "outputId": "3b50835c-962e-4d7d-e4c4-68b13bb1bdd4"
      },
      "outputs": [
        {
          "data": {
            "image/png": "[encoded data removed]",
            "text/plain": [
              "<Figure size 432x288 with 1 Axes>"
            ]
          },
          "metadata": {
            "needs_background": "light"
          },
          "output_type": "display_data"
        }
      ],
      "source": [
        "# Define the input data as a list\n",
        "data = [i for i in range(0,k_max+1)]\n",
        "\n",
        "# Convert the input data to a numpy array\n",
        "x = np.array(data)\n",
        "\n",
        "# Define the output data as a list\n",
        "output = mae_list\n",
        "\n",
        "# Convert the output data to a numpy array\n",
        "y = np.array(output)\n",
        "\n",
        "# Perform linear regression on the data\n",
        "slope, intercept = np.polyfit(x, y, 1)\n",
        "\n",
        "# Define a function for the linear approximation\n",
        "def linear_approximation(x):\n",
        "    return slope * x + intercept\n",
        "\n",
        "# Plot the data and the linear approximation\n",
        "plt.plot(x, y, label='Data')\n",
        "plt.plot(x, linear_approximation(x), \"--\", label='Linear Approximation')\n",
        "plt.legend(['Linear Approximation (slope={0:.2f}, intercept={1:.2f})'.format(slope, intercept), 'Data'])\n",
        "plt.title(\"Error vs k for {} vertices\".format(num_vertices))\n",
        "plt.show()\n"
      ]
    },
    {
      "cell_type": "code",
      "execution_count": null,
      "metadata": {
        "id": "DacYaVJxAUgl"
      },
      "outputs": [],
      "source": []
    }
  ],
  "metadata": {
    "colab": {
      "provenance": []
    },
    "kernelspec": {
      "display_name": "Python 3",
      "name": "python3"
    },
    "language_info": {
      "codemirror_mode": {
        "name": "ipython",
        "version": 3
      },
      "file_extension": ".py",
      "mimetype": "text/x-python",
      "name": "python",
      "nbconvert_exporter": "python",
      "pygments_lexer": "ipython3",
      "version": "3.10.4"
    }
  },
  "nbformat": 4,
  "nbformat_minor": 0
}
